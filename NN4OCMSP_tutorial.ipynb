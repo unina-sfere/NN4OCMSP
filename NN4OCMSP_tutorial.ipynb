{
 "cells": [
  {
   "cell_type": "markdown",
   "metadata": {},
   "source": [
    "# An artificial neural network approach for automatic signal interpretation in the multiple stream process control of passenger train HVAC systems"
   ]
  },
  {
   "cell_type": "code",
   "execution_count": null,
   "metadata": {},
   "outputs": [],
   "source": [
    "# Import libraries\n",
    "\n",
    "import math \n",
    "import pandas as pd\n",
    "import numpy as np\n",
    "import sklearn\n",
    "import keras\n",
    "from keras import Sequential\n",
    "from keras.layers import Dense\n",
    "\n",
    "from sklearn import preprocessing\n",
    "from sklearn.model_selection import train_test_split\n",
    "\n",
    "import matplotlib as mpl\n",
    "import matplotlib.pyplot as plt\n",
    "%matplotlib inline\n",
    "from matplotlib.ticker import ScalarFormatter, AutoMinorLocator\n",
    "\n",
    "from itertools import combinations\n",
    "import random as python_random\n",
    "import tensorflow as tf\n",
    "\n",
    "from NN4OCMSP.functions import *\n",
    "import NN4OCMSP.dataset"
   ]
  },
  {
   "cell_type": "markdown",
   "metadata": {},
   "source": [
    "## Real-case study: HVAC systems in passenger railway vehicles "
   ]
  },
  {
   "cell_type": "code",
   "execution_count": null,
   "metadata": {},
   "outputs": [],
   "source": [
    "# Import HVAC data \n",
    "\n",
    "HVAC_data = NN4OCMSP.dataset.load_HVAC_data()\n",
    "HVAC_data.head()"
   ]
  },
  {
   "cell_type": "code",
   "execution_count": null,
   "metadata": {},
   "outputs": [],
   "source": [
    "# Filter train A for Phase I estimatin\n",
    "\n",
    "train_1_data = HVAC_data[HVAC_data[\"Vehicle\"] == \"Train_A\"]\n",
    "\n",
    "# Select the DeltaT variables \n",
    "train_1_data = train_1_data.iloc[:,-6:]\n",
    "# Convert pandas dataframe to NumPy array\n",
    "train_1_data = train_1_data.to_numpy()"
   ]
  },
  {
   "cell_type": "code",
   "execution_count": null,
   "metadata": {},
   "outputs": [],
   "source": [
    "# MSP\n",
    "\n",
    "s = 6 # number of streams corresponding to the number of train coaches\n",
    "n = 5 # sample size\n",
    "\n",
    "# Estimate the mean, the process variability and the variability between streams from the Phase I\n",
    "# data using standard one-way ANOVA techniques \n",
    "\n",
    "mu, sigmaA, sigmae = phaseI_estimation(train_1_data)\n",
    "print('mean', mu)\n",
    "print('standard deviation of the common stream component', sigmaA)\n",
    "print('standard deviation of the individual stream component', sigmae)"
   ]
  },
  {
   "cell_type": "code",
   "execution_count": null,
   "metadata": {},
   "outputs": [],
   "source": [
    "# Plot the ΔT signals from the six train coaches\n",
    "\n",
    "train_1_data = train_1_data.transpose().reshape(-1,n).mean(1).reshape(s,-1).transpose() # Average every 5 rows \n",
    "\n",
    "# Plot the ΔT signals from the six train coaches\n",
    "\n",
    "fig = plt.figure(figsize=(12, 6))\n",
    "\n",
    "x = np.arange(1, 26 ,1)\n",
    "\n",
    "a = 0\n",
    "b = 25\n",
    "\n",
    "plt.plot(x,train_1_data[a:b,0], label = 'Coach 1', color='black', ls='-', marker='*')\n",
    "plt.plot(x,train_1_data[a:b,1], label = 'Coach 2', color='blue', ls='-', marker='.')\n",
    "plt.plot(x,train_1_data[a:b,2], label = 'Coach 3', color='red', ls='-.', marker= 's')\n",
    "plt.plot(x,train_1_data[a:b,3], label = 'Coach 4', color='green', ls='-', marker='D')\n",
    "plt.plot(x,train_1_data[a:b,4], label = 'Coach 5', color='orange', ls='-', marker='+')\n",
    "plt.plot(x,train_1_data[a:b,5], label = 'Coach 6', color='violet', ls='-', marker='P')\n",
    "# plt.axhline(0, color=\"red\")\n",
    "plt.xlabel('Sample', fontsize=12)\n",
    "plt.ylabel('$ \\Delta$T', fontsize=12)\n",
    "plt.legend(fontsize=10)\n",
    "\n",
    "plt.tick_params(axis='both', which='major', size = 7, width = 1 , direction = 'out', labelsize = 10)\n",
    "plt.xticks(np.arange(1, 26, 1))\n",
    "\n",
    "plt.show()"
   ]
  },
  {
   "cell_type": "markdown",
   "metadata": {},
   "source": [
    "### Neural Network training"
   ]
  },
  {
   "cell_type": "code",
   "execution_count": null,
   "metadata": {},
   "outputs": [],
   "source": [
    "# Set the simulation parameters to properly generate the data set to train the Neural Network (NN)\n",
    "\n",
    "num_samples = 10000 # number of samples for each out-of-control (oc) scenario\n",
    "alpha_sim = 0.05 # Type-I error\n",
    "\n",
    "# Generate data\n",
    "X, y = dataset_generator(s,n,num_samples, mu, sigmaA, sigmae,alpha_sim)"
   ]
  },
  {
   "cell_type": "code",
   "execution_count": null,
   "metadata": {},
   "outputs": [],
   "source": [
    "# Train/validation split\n",
    "\n",
    "X_train, X_val, y_train, y_val = train_test_split(X, y, test_size=0.3, stratify = y ,random_state=27)"
   ]
  },
  {
   "cell_type": "code",
   "execution_count": null,
   "metadata": {},
   "outputs": [],
   "source": [
    "# Data are normalized to have unit variance and zero mean\n",
    "\n",
    "scaler = preprocessing.StandardScaler().fit(X_train)\n",
    "X_train = scaler.transform(X_train)\n",
    "X_val = scaler.transform(X_val)"
   ]
  },
  {
   "cell_type": "code",
   "execution_count": null,
   "metadata": {},
   "outputs": [],
   "source": [
    "# NN definition \n",
    "\n",
    "num_hidden_layer = 2 # Number of hidden layers\n",
    "hidden_activation_function = ['relu', 'relu'] # activation function in the hidden layers\n",
    "number_hidden_neuron = [20,10] # number of neurons in the hidden layers\n",
    "num_output_neuron = s # The output layer consists of 𝑠 neurons, corresponding to the 𝑠 possible streams \n",
    "                      # responsible for the OC signal\n",
    "    \n",
    "epochs = 10 # Number of epochs to train the model. An epoch is an iteration over the entire training data\n",
    "batch_size = 516 # Number of samples per gradient update\n",
    "\n",
    "# NN Training \n",
    "\n",
    "classifier = NN_model(hidden_activation_function, num_hidden_layer,number_hidden_neuron, num_output_neuron) \n",
    "\n",
    "# Compiling the neural network\n",
    "\n",
    "classifier.compile(optimizer ='adam', loss='binary_crossentropy', metrics = ['accuracy']) # Configures the model for training\n",
    "\n",
    "# Fitting \n",
    "\n",
    "history = classifier.fit(X_train, y_train, batch_size = batch_size, epochs = epochs, validation_data=(X_val, y_val)) # Trains the model"
   ]
  },
  {
   "cell_type": "markdown",
   "metadata": {},
   "source": [
    "###  Train B "
   ]
  },
  {
   "cell_type": "code",
   "execution_count": null,
   "metadata": {},
   "outputs": [],
   "source": [
    "train_2_data = HVAC_data[HVAC_data[\"Vehicle\"] == \"Train_B\"] # Filter Vehicle by Train B \n",
    "train_2_data = train_2_data.iloc[0:-2,-6:] # Select the DeltaTemp variables \n",
    "train_2_data = train_2_data.to_numpy() # Convert pandas dataframe to NumPy array\n",
    "train_2_data = train_2_data.transpose().reshape(-1,n).mean(1).reshape(s,-1).transpose() # Average every 5 rows   "
   ]
  },
  {
   "cell_type": "code",
   "execution_count": null,
   "metadata": {},
   "outputs": [],
   "source": [
    "# Plot the ΔT signals from the six train coaches \n",
    "\n",
    "fig = plt.figure(figsize=(12, 6))\n",
    "\n",
    "x = np.arange(1,16,1)\n",
    "\n",
    "a = 8\n",
    "b = 23\n",
    "\n",
    "plt.plot(x,train_2_data[a:b,0], label = 'Coach 1', color='black', ls='-', marker='*')\n",
    "plt.plot(x,train_2_data[a:b,1], label = 'Coach 2', color='blue', ls='-', marker='.')\n",
    "plt.plot(x,train_2_data[a:b,2], label = 'Coach 3', color='red', ls='-.', marker= 's')\n",
    "plt.plot(x,train_2_data[a:b,3], label = 'Coach 4', color='green', ls='-', marker='D')\n",
    "plt.plot(x,train_2_data[a:b,4], label = 'Coach 5', color='orange', ls='-', marker='+')\n",
    "plt.plot(x,train_2_data[a:b,5], label = 'Coach 6', color='violet', ls='-', marker='P')\n",
    "plt.xlabel('Sample', fontsize=12)\n",
    "plt.ylabel('$ \\Delta$T', fontsize=12)\n",
    "plt.legend(fontsize=10)\n",
    "\n",
    "plt.xticks(np.arange(1, 16, 1))\n",
    "plt.tick_params(axis='both', which='major', size = 7, width = 1 , direction = 'out', labelsize = 10)\n",
    "\n",
    "plt.show()"
   ]
  },
  {
   "cell_type": "code",
   "execution_count": null,
   "metadata": {},
   "outputs": [],
   "source": [
    "# Compute the overall mean and the range for each sample\n",
    "\n",
    "overall_mean, sample_range  = range_overall_mean(train_2_data[a:b,])"
   ]
  },
  {
   "cell_type": "code",
   "execution_count": null,
   "metadata": {},
   "outputs": [],
   "source": [
    "# Design and plot of the overall mean and range control charts\n",
    "\n",
    "fig_size = (12, 6)\n",
    "fig_control_chart = plt.figure(figsize=fig_size)\n",
    "fig_control_chart= control_charts(fig_control_chart, s, n, mu, sigmaA, sigmae, alpha_sim, overall_mean, sample_range)"
   ]
  },
  {
   "cell_type": "code",
   "execution_count": null,
   "metadata": {},
   "outputs": [],
   "source": [
    "fig_control_chart.savefig(\"plot_control_charts_train_B.png\", dpi = 300)"
   ]
  },
  {
   "cell_type": "code",
   "execution_count": null,
   "metadata": {},
   "outputs": [],
   "source": [
    "#  Predict the OC stream(s) at the time of the first signal\n",
    "\n",
    "pred = prediction(train_2_data[a:b,], classifier, scaler)\n",
    "\n",
    "# The range control chart starts signaling an OC state from sample 9. \n",
    "pred[8]"
   ]
  }
 ],
 "metadata": {
  "kernelspec": {
   "display_name": "Python 3 (ipykernel)",
   "language": "python",
   "name": "python3"
  },
  "language_info": {
   "codemirror_mode": {
    "name": "ipython",
    "version": 3
   },
   "file_extension": ".py",
   "mimetype": "text/x-python",
   "name": "python",
   "nbconvert_exporter": "python",
   "pygments_lexer": "ipython3",
   "version": "3.10.13"
  }
 },
 "nbformat": 4,
 "nbformat_minor": 4
}
